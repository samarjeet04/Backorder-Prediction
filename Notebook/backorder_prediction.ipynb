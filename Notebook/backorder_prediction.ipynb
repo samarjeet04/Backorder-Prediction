{
  "cells": [
    {
      "cell_type": "code",
      "source": [
        "pip install catboost"
      ],
      "metadata": {
        "colab": {
          "base_uri": "https://localhost:8080/"
        },
        "id": "sNMrPdrie4ZQ",
        "outputId": "4a72937c-b707-4379-ad03-34b034608eb1"
      },
      "id": "sNMrPdrie4ZQ",
      "execution_count": 1,
      "outputs": [
        {
          "output_type": "stream",
          "name": "stdout",
          "text": [
            "Looking in indexes: https://pypi.org/simple, https://us-python.pkg.dev/colab-wheels/public/simple/\n",
            "Collecting catboost\n",
            "  Downloading catboost-1.1.1-cp39-none-manylinux1_x86_64.whl (76.6 MB)\n",
            "\u001b[2K     \u001b[90m━━━━━━━━━━━━━━━━━━━━━━━━━━━━━━━━━━━━━━━━\u001b[0m \u001b[32m76.6/76.6 MB\u001b[0m \u001b[31m4.9 MB/s\u001b[0m eta \u001b[36m0:00:00\u001b[0m\n",
            "\u001b[?25hRequirement already satisfied: numpy>=1.16.0 in /usr/local/lib/python3.9/dist-packages (from catboost) (1.24.2)\n",
            "Requirement already satisfied: matplotlib in /usr/local/lib/python3.9/dist-packages (from catboost) (3.7.1)\n",
            "Requirement already satisfied: graphviz in /usr/local/lib/python3.9/dist-packages (from catboost) (0.20.1)\n",
            "Requirement already satisfied: plotly in /usr/local/lib/python3.9/dist-packages (from catboost) (5.13.1)\n",
            "Requirement already satisfied: six in /usr/local/lib/python3.9/dist-packages (from catboost) (1.16.0)\n",
            "Requirement already satisfied: pandas>=0.24.0 in /usr/local/lib/python3.9/dist-packages (from catboost) (1.4.4)\n",
            "Requirement already satisfied: scipy in /usr/local/lib/python3.9/dist-packages (from catboost) (1.10.1)\n",
            "Requirement already satisfied: python-dateutil>=2.8.1 in /usr/local/lib/python3.9/dist-packages (from pandas>=0.24.0->catboost) (2.8.2)\n",
            "Requirement already satisfied: pytz>=2020.1 in /usr/local/lib/python3.9/dist-packages (from pandas>=0.24.0->catboost) (2022.7.1)\n",
            "Requirement already satisfied: packaging>=20.0 in /usr/local/lib/python3.9/dist-packages (from matplotlib->catboost) (23.0)\n",
            "Requirement already satisfied: cycler>=0.10 in /usr/local/lib/python3.9/dist-packages (from matplotlib->catboost) (0.11.0)\n",
            "Requirement already satisfied: contourpy>=1.0.1 in /usr/local/lib/python3.9/dist-packages (from matplotlib->catboost) (1.0.7)\n",
            "Requirement already satisfied: pillow>=6.2.0 in /usr/local/lib/python3.9/dist-packages (from matplotlib->catboost) (8.4.0)\n",
            "Requirement already satisfied: fonttools>=4.22.0 in /usr/local/lib/python3.9/dist-packages (from matplotlib->catboost) (4.39.3)\n",
            "Requirement already satisfied: importlib-resources>=3.2.0 in /usr/local/lib/python3.9/dist-packages (from matplotlib->catboost) (5.12.0)\n",
            "Requirement already satisfied: kiwisolver>=1.0.1 in /usr/local/lib/python3.9/dist-packages (from matplotlib->catboost) (1.4.4)\n",
            "Requirement already satisfied: pyparsing>=2.3.1 in /usr/local/lib/python3.9/dist-packages (from matplotlib->catboost) (3.0.9)\n",
            "Requirement already satisfied: tenacity>=6.2.0 in /usr/local/lib/python3.9/dist-packages (from plotly->catboost) (8.2.2)\n",
            "Requirement already satisfied: zipp>=3.1.0 in /usr/local/lib/python3.9/dist-packages (from importlib-resources>=3.2.0->matplotlib->catboost) (3.15.0)\n",
            "Installing collected packages: catboost\n",
            "Successfully installed catboost-1.1.1\n"
          ]
        }
      ]
    },
    {
      "cell_type": "code",
      "execution_count": 2,
      "id": "9fd6ee29",
      "metadata": {
        "id": "9fd6ee29"
      },
      "outputs": [],
      "source": [
        "import pandas as pd\n",
        "import numpy as np\n",
        "from sklearn.impute import SimpleImputer\n",
        "from sklearn.preprocessing import RobustScaler\n",
        "from sklearn.preprocessing import FunctionTransformer\n",
        "from sklearn.compose import ColumnTransformer\n",
        "from sklearn.metrics import accuracy_score, classification_report,ConfusionMatrixDisplay, \\\n",
        "                            precision_score, recall_score, f1_score, roc_auc_score,roc_curve,confusion_matrix\n",
        "from sklearn.linear_model import LogisticRegression\n",
        "from sklearn.ensemble import RandomForestClassifier, AdaBoostClassifier, GradientBoostingClassifier\n",
        "from sklearn.neighbors import KNeighborsClassifier\n",
        "from sklearn.tree import DecisionTreeClassifier\n",
        "from sklearn.svm import SVC\n",
        "from sklearn.model_selection import train_test_split, RepeatedStratifiedKFold, cross_val_score\n",
        "from xgboost import XGBClassifier\n",
        "from catboost import CatBoostClassifier\n",
        "import warnings\n",
        "import matplotlib.pyplot as plt\n",
        "warnings.filterwarnings(\"ignore\")"
      ]
    },
    {
      "cell_type": "code",
      "execution_count": 3,
      "id": "d227ef85",
      "metadata": {
        "colab": {
          "base_uri": "https://localhost:8080/",
          "height": 297
        },
        "id": "d227ef85",
        "outputId": "b78fb70d-f997-400e-c2fb-701a1f726e92"
      },
      "outputs": [
        {
          "output_type": "execute_result",
          "data": {
            "text/plain": [
              "       sku  national_inv  lead_time  in_transit_qty  forecast_3_month  \\\n",
              "0  1026827             0        NaN             0.0               0.0   \n",
              "1  1043384             2        9.0             0.0               0.0   \n",
              "2  1043696             2        NaN             0.0               0.0   \n",
              "3  1043852             7        8.0             0.0               0.0   \n",
              "4  1044048             8        NaN             0.0               0.0   \n",
              "\n",
              "   forecast_6_month  forecast_9_month  sales_1_month  sales_3_month  \\\n",
              "0               0.0               0.0            0.0            0.0   \n",
              "1               0.0               0.0            0.0            0.0   \n",
              "2               0.0               0.0            0.0            0.0   \n",
              "3               0.0               0.0            0.0            0.0   \n",
              "4               0.0               0.0            0.0            0.0   \n",
              "\n",
              "   sales_6_month  ...  pieces_past_due  perf_6_month_avg perf_12_month_avg  \\\n",
              "0            0.0  ...              0.0            -99.00            -99.00   \n",
              "1            0.0  ...              0.0              0.99              0.99   \n",
              "2            0.0  ...              0.0            -99.00            -99.00   \n",
              "3            0.0  ...              0.0              0.10              0.13   \n",
              "4            0.0  ...              0.0            -99.00            -99.00   \n",
              "\n",
              "   local_bo_qty  deck_risk  oe_constraint  ppap_risk stop_auto_buy rev_stop  \\\n",
              "0           0.0         No             No         No           Yes       No   \n",
              "1           0.0         No             No         No           Yes       No   \n",
              "2           0.0        Yes             No         No           Yes       No   \n",
              "3           0.0         No             No         No           Yes       No   \n",
              "4           0.0        Yes             No         No           Yes       No   \n",
              "\n",
              "  went_on_backorder  \n",
              "0                No  \n",
              "1                No  \n",
              "2                No  \n",
              "3                No  \n",
              "4                No  \n",
              "\n",
              "[5 rows x 23 columns]"
            ],
            "text/html": [
              "\n",
              "  <div id=\"df-dc8fa3b2-1432-4de1-9c0d-aa70443ecb3c\">\n",
              "    <div class=\"colab-df-container\">\n",
              "      <div>\n",
              "<style scoped>\n",
              "    .dataframe tbody tr th:only-of-type {\n",
              "        vertical-align: middle;\n",
              "    }\n",
              "\n",
              "    .dataframe tbody tr th {\n",
              "        vertical-align: top;\n",
              "    }\n",
              "\n",
              "    .dataframe thead th {\n",
              "        text-align: right;\n",
              "    }\n",
              "</style>\n",
              "<table border=\"1\" class=\"dataframe\">\n",
              "  <thead>\n",
              "    <tr style=\"text-align: right;\">\n",
              "      <th></th>\n",
              "      <th>sku</th>\n",
              "      <th>national_inv</th>\n",
              "      <th>lead_time</th>\n",
              "      <th>in_transit_qty</th>\n",
              "      <th>forecast_3_month</th>\n",
              "      <th>forecast_6_month</th>\n",
              "      <th>forecast_9_month</th>\n",
              "      <th>sales_1_month</th>\n",
              "      <th>sales_3_month</th>\n",
              "      <th>sales_6_month</th>\n",
              "      <th>...</th>\n",
              "      <th>pieces_past_due</th>\n",
              "      <th>perf_6_month_avg</th>\n",
              "      <th>perf_12_month_avg</th>\n",
              "      <th>local_bo_qty</th>\n",
              "      <th>deck_risk</th>\n",
              "      <th>oe_constraint</th>\n",
              "      <th>ppap_risk</th>\n",
              "      <th>stop_auto_buy</th>\n",
              "      <th>rev_stop</th>\n",
              "      <th>went_on_backorder</th>\n",
              "    </tr>\n",
              "  </thead>\n",
              "  <tbody>\n",
              "    <tr>\n",
              "      <th>0</th>\n",
              "      <td>1026827</td>\n",
              "      <td>0</td>\n",
              "      <td>NaN</td>\n",
              "      <td>0.0</td>\n",
              "      <td>0.0</td>\n",
              "      <td>0.0</td>\n",
              "      <td>0.0</td>\n",
              "      <td>0.0</td>\n",
              "      <td>0.0</td>\n",
              "      <td>0.0</td>\n",
              "      <td>...</td>\n",
              "      <td>0.0</td>\n",
              "      <td>-99.00</td>\n",
              "      <td>-99.00</td>\n",
              "      <td>0.0</td>\n",
              "      <td>No</td>\n",
              "      <td>No</td>\n",
              "      <td>No</td>\n",
              "      <td>Yes</td>\n",
              "      <td>No</td>\n",
              "      <td>No</td>\n",
              "    </tr>\n",
              "    <tr>\n",
              "      <th>1</th>\n",
              "      <td>1043384</td>\n",
              "      <td>2</td>\n",
              "      <td>9.0</td>\n",
              "      <td>0.0</td>\n",
              "      <td>0.0</td>\n",
              "      <td>0.0</td>\n",
              "      <td>0.0</td>\n",
              "      <td>0.0</td>\n",
              "      <td>0.0</td>\n",
              "      <td>0.0</td>\n",
              "      <td>...</td>\n",
              "      <td>0.0</td>\n",
              "      <td>0.99</td>\n",
              "      <td>0.99</td>\n",
              "      <td>0.0</td>\n",
              "      <td>No</td>\n",
              "      <td>No</td>\n",
              "      <td>No</td>\n",
              "      <td>Yes</td>\n",
              "      <td>No</td>\n",
              "      <td>No</td>\n",
              "    </tr>\n",
              "    <tr>\n",
              "      <th>2</th>\n",
              "      <td>1043696</td>\n",
              "      <td>2</td>\n",
              "      <td>NaN</td>\n",
              "      <td>0.0</td>\n",
              "      <td>0.0</td>\n",
              "      <td>0.0</td>\n",
              "      <td>0.0</td>\n",
              "      <td>0.0</td>\n",
              "      <td>0.0</td>\n",
              "      <td>0.0</td>\n",
              "      <td>...</td>\n",
              "      <td>0.0</td>\n",
              "      <td>-99.00</td>\n",
              "      <td>-99.00</td>\n",
              "      <td>0.0</td>\n",
              "      <td>Yes</td>\n",
              "      <td>No</td>\n",
              "      <td>No</td>\n",
              "      <td>Yes</td>\n",
              "      <td>No</td>\n",
              "      <td>No</td>\n",
              "    </tr>\n",
              "    <tr>\n",
              "      <th>3</th>\n",
              "      <td>1043852</td>\n",
              "      <td>7</td>\n",
              "      <td>8.0</td>\n",
              "      <td>0.0</td>\n",
              "      <td>0.0</td>\n",
              "      <td>0.0</td>\n",
              "      <td>0.0</td>\n",
              "      <td>0.0</td>\n",
              "      <td>0.0</td>\n",
              "      <td>0.0</td>\n",
              "      <td>...</td>\n",
              "      <td>0.0</td>\n",
              "      <td>0.10</td>\n",
              "      <td>0.13</td>\n",
              "      <td>0.0</td>\n",
              "      <td>No</td>\n",
              "      <td>No</td>\n",
              "      <td>No</td>\n",
              "      <td>Yes</td>\n",
              "      <td>No</td>\n",
              "      <td>No</td>\n",
              "    </tr>\n",
              "    <tr>\n",
              "      <th>4</th>\n",
              "      <td>1044048</td>\n",
              "      <td>8</td>\n",
              "      <td>NaN</td>\n",
              "      <td>0.0</td>\n",
              "      <td>0.0</td>\n",
              "      <td>0.0</td>\n",
              "      <td>0.0</td>\n",
              "      <td>0.0</td>\n",
              "      <td>0.0</td>\n",
              "      <td>0.0</td>\n",
              "      <td>...</td>\n",
              "      <td>0.0</td>\n",
              "      <td>-99.00</td>\n",
              "      <td>-99.00</td>\n",
              "      <td>0.0</td>\n",
              "      <td>Yes</td>\n",
              "      <td>No</td>\n",
              "      <td>No</td>\n",
              "      <td>Yes</td>\n",
              "      <td>No</td>\n",
              "      <td>No</td>\n",
              "    </tr>\n",
              "  </tbody>\n",
              "</table>\n",
              "<p>5 rows × 23 columns</p>\n",
              "</div>\n",
              "      <button class=\"colab-df-convert\" onclick=\"convertToInteractive('df-dc8fa3b2-1432-4de1-9c0d-aa70443ecb3c')\"\n",
              "              title=\"Convert this dataframe to an interactive table.\"\n",
              "              style=\"display:none;\">\n",
              "        \n",
              "  <svg xmlns=\"http://www.w3.org/2000/svg\" height=\"24px\"viewBox=\"0 0 24 24\"\n",
              "       width=\"24px\">\n",
              "    <path d=\"M0 0h24v24H0V0z\" fill=\"none\"/>\n",
              "    <path d=\"M18.56 5.44l.94 2.06.94-2.06 2.06-.94-2.06-.94-.94-2.06-.94 2.06-2.06.94zm-11 1L8.5 8.5l.94-2.06 2.06-.94-2.06-.94L8.5 2.5l-.94 2.06-2.06.94zm10 10l.94 2.06.94-2.06 2.06-.94-2.06-.94-.94-2.06-.94 2.06-2.06.94z\"/><path d=\"M17.41 7.96l-1.37-1.37c-.4-.4-.92-.59-1.43-.59-.52 0-1.04.2-1.43.59L10.3 9.45l-7.72 7.72c-.78.78-.78 2.05 0 2.83L4 21.41c.39.39.9.59 1.41.59.51 0 1.02-.2 1.41-.59l7.78-7.78 2.81-2.81c.8-.78.8-2.07 0-2.86zM5.41 20L4 18.59l7.72-7.72 1.47 1.35L5.41 20z\"/>\n",
              "  </svg>\n",
              "      </button>\n",
              "      \n",
              "  <style>\n",
              "    .colab-df-container {\n",
              "      display:flex;\n",
              "      flex-wrap:wrap;\n",
              "      gap: 12px;\n",
              "    }\n",
              "\n",
              "    .colab-df-convert {\n",
              "      background-color: #E8F0FE;\n",
              "      border: none;\n",
              "      border-radius: 50%;\n",
              "      cursor: pointer;\n",
              "      display: none;\n",
              "      fill: #1967D2;\n",
              "      height: 32px;\n",
              "      padding: 0 0 0 0;\n",
              "      width: 32px;\n",
              "    }\n",
              "\n",
              "    .colab-df-convert:hover {\n",
              "      background-color: #E2EBFA;\n",
              "      box-shadow: 0px 1px 2px rgba(60, 64, 67, 0.3), 0px 1px 3px 1px rgba(60, 64, 67, 0.15);\n",
              "      fill: #174EA6;\n",
              "    }\n",
              "\n",
              "    [theme=dark] .colab-df-convert {\n",
              "      background-color: #3B4455;\n",
              "      fill: #D2E3FC;\n",
              "    }\n",
              "\n",
              "    [theme=dark] .colab-df-convert:hover {\n",
              "      background-color: #434B5C;\n",
              "      box-shadow: 0px 1px 3px 1px rgba(0, 0, 0, 0.15);\n",
              "      filter: drop-shadow(0px 1px 2px rgba(0, 0, 0, 0.3));\n",
              "      fill: #FFFFFF;\n",
              "    }\n",
              "  </style>\n",
              "\n",
              "      <script>\n",
              "        const buttonEl =\n",
              "          document.querySelector('#df-dc8fa3b2-1432-4de1-9c0d-aa70443ecb3c button.colab-df-convert');\n",
              "        buttonEl.style.display =\n",
              "          google.colab.kernel.accessAllowed ? 'block' : 'none';\n",
              "\n",
              "        async function convertToInteractive(key) {\n",
              "          const element = document.querySelector('#df-dc8fa3b2-1432-4de1-9c0d-aa70443ecb3c');\n",
              "          const dataTable =\n",
              "            await google.colab.kernel.invokeFunction('convertToInteractive',\n",
              "                                                     [key], {});\n",
              "          if (!dataTable) return;\n",
              "\n",
              "          const docLinkHtml = 'Like what you see? Visit the ' +\n",
              "            '<a target=\"_blank\" href=https://colab.research.google.com/notebooks/data_table.ipynb>data table notebook</a>'\n",
              "            + ' to learn more about interactive tables.';\n",
              "          element.innerHTML = '';\n",
              "          dataTable['output_type'] = 'display_data';\n",
              "          await google.colab.output.renderOutput(dataTable, element);\n",
              "          const docLink = document.createElement('div');\n",
              "          docLink.innerHTML = docLinkHtml;\n",
              "          element.appendChild(docLink);\n",
              "        }\n",
              "      </script>\n",
              "    </div>\n",
              "  </div>\n",
              "  "
            ]
          },
          "metadata": {},
          "execution_count": 3
        }
      ],
      "source": [
        "train = pd.read_csv(\"Kaggle_Training_Dataset_v2.csv\")\n",
        "train.head()"
      ]
    },
    {
      "cell_type": "code",
      "execution_count": 4,
      "id": "d4808dc8",
      "metadata": {
        "colab": {
          "base_uri": "https://localhost:8080/"
        },
        "id": "d4808dc8",
        "outputId": "b0925b3b-5520-4c3c-bbdd-cd48664a52f8"
      },
      "outputs": [
        {
          "output_type": "execute_result",
          "data": {
            "text/plain": [
              "(86604, 23)"
            ]
          },
          "metadata": {},
          "execution_count": 4
        }
      ],
      "source": [
        "train.shape"
      ]
    },
    {
      "cell_type": "code",
      "execution_count": 5,
      "id": "5a7545a8",
      "metadata": {
        "colab": {
          "base_uri": "https://localhost:8080/"
        },
        "id": "5a7545a8",
        "outputId": "e82d87b9-6bc8-42ed-aa09-848282602f80"
      },
      "outputs": [
        {
          "output_type": "stream",
          "name": "stdout",
          "text": [
            "<class 'pandas.core.frame.DataFrame'>\n",
            "RangeIndex: 86604 entries, 0 to 86603\n",
            "Data columns (total 23 columns):\n",
            " #   Column             Non-Null Count  Dtype  \n",
            "---  ------             --------------  -----  \n",
            " 0   sku                86604 non-null  int64  \n",
            " 1   national_inv       86604 non-null  int64  \n",
            " 2   lead_time          81436 non-null  float64\n",
            " 3   in_transit_qty     86603 non-null  float64\n",
            " 4   forecast_3_month   86603 non-null  float64\n",
            " 5   forecast_6_month   86603 non-null  float64\n",
            " 6   forecast_9_month   86603 non-null  float64\n",
            " 7   sales_1_month      86603 non-null  float64\n",
            " 8   sales_3_month      86603 non-null  float64\n",
            " 9   sales_6_month      86603 non-null  float64\n",
            " 10  sales_9_month      86603 non-null  float64\n",
            " 11  min_bank           86603 non-null  float64\n",
            " 12  potential_issue    86603 non-null  object \n",
            " 13  pieces_past_due    86603 non-null  float64\n",
            " 14  perf_6_month_avg   86603 non-null  float64\n",
            " 15  perf_12_month_avg  86603 non-null  float64\n",
            " 16  local_bo_qty       86603 non-null  float64\n",
            " 17  deck_risk          86603 non-null  object \n",
            " 18  oe_constraint      86603 non-null  object \n",
            " 19  ppap_risk          86603 non-null  object \n",
            " 20  stop_auto_buy      86603 non-null  object \n",
            " 21  rev_stop           86603 non-null  object \n",
            " 22  went_on_backorder  86603 non-null  object \n",
            "dtypes: float64(14), int64(2), object(7)\n",
            "memory usage: 15.2+ MB\n"
          ]
        }
      ],
      "source": [
        "train.info()"
      ]
    },
    {
      "cell_type": "code",
      "execution_count": 6,
      "id": "77cb60a6",
      "metadata": {
        "colab": {
          "base_uri": "https://localhost:8080/"
        },
        "id": "77cb60a6",
        "outputId": "b0a329ec-8ee5-4576-88d3-5b7a618dd7ca"
      },
      "outputs": [
        {
          "output_type": "execute_result",
          "data": {
            "text/plain": [
              "array(['No', 'Yes', nan], dtype=object)"
            ]
          },
          "metadata": {},
          "execution_count": 6
        }
      ],
      "source": [
        "train['potential_issue'].unique()"
      ]
    },
    {
      "cell_type": "code",
      "execution_count": 7,
      "id": "89af3154",
      "metadata": {
        "colab": {
          "base_uri": "https://localhost:8080/",
          "height": 361
        },
        "id": "89af3154",
        "outputId": "8f1dc82b-28e0-493c-bed7-87900abfeb37"
      },
      "outputs": [
        {
          "output_type": "execute_result",
          "data": {
            "text/plain": [
              "                sku  national_inv     lead_time  in_transit_qty  \\\n",
              "count  8.660400e+04  8.660400e+04  81436.000000    86603.000000   \n",
              "mean   1.154790e+06  6.417999e+02      7.849109       46.161426   \n",
              "std    2.510941e+04  4.836381e+04      6.965915     1510.020780   \n",
              "min    1.026827e+06 -1.302000e+03      0.000000        0.000000   \n",
              "25%    1.133170e+06  4.000000e+00      4.000000        0.000000   \n",
              "50%    1.154820e+06  1.500000e+01      8.000000        0.000000   \n",
              "75%    1.176471e+06  8.100000e+01      9.000000        0.000000   \n",
              "max    1.237426e+06  1.233440e+07     52.000000   288960.000000   \n",
              "\n",
              "       forecast_3_month  forecast_6_month  forecast_9_month  sales_1_month  \\\n",
              "count      8.660300e+04      8.660300e+04      8.660300e+04   86603.000000   \n",
              "mean       1.876321e+02      3.646151e+02      5.264483e+02      62.377527   \n",
              "std        5.722026e+03      1.113656e+04      1.547578e+04    2076.185936   \n",
              "min        0.000000e+00      0.000000e+00      0.000000e+00       0.000000   \n",
              "25%        0.000000e+00      0.000000e+00      0.000000e+00       0.000000   \n",
              "50%        0.000000e+00      0.000000e+00      0.000000e+00       0.000000   \n",
              "75%        4.000000e+00      1.200000e+01      2.000000e+01       4.000000   \n",
              "max        1.046592e+06      2.104128e+06      3.002688e+06  361803.000000   \n",
              "\n",
              "       sales_3_month  sales_6_month  sales_9_month       min_bank  \\\n",
              "count   86603.000000   8.660300e+04   8.660300e+04   86603.000000   \n",
              "mean      189.808378   3.687682e+02   5.842269e+02      61.132986   \n",
              "std      5647.623497   1.065543e+04   1.742341e+04    1740.861199   \n",
              "min         0.000000   0.000000e+00   0.000000e+00       0.000000   \n",
              "25%         0.000000   0.000000e+00   0.000000e+00       0.000000   \n",
              "50%         1.000000   2.000000e+00   4.000000e+00       0.000000   \n",
              "75%        15.000000   3.100000e+01   4.700000e+01       3.000000   \n",
              "max    884575.000000   1.763533e+06   2.758103e+06  309667.000000   \n",
              "\n",
              "       pieces_past_due  perf_6_month_avg  perf_12_month_avg  local_bo_qty  \n",
              "count     86603.000000      86603.000000       86603.000000  86603.000000  \n",
              "mean          1.859093         -6.944124          -6.489125      0.544681  \n",
              "std         147.691299         26.683748          25.932820     24.754973  \n",
              "min           0.000000        -99.000000         -99.000000      0.000000  \n",
              "25%           0.000000          0.640000           0.660000      0.000000  \n",
              "50%           0.000000          0.820000           0.810000      0.000000  \n",
              "75%           0.000000          0.970000           0.950000      0.000000  \n",
              "max       27648.000000          1.000000           1.000000   5208.000000  "
            ],
            "text/html": [
              "\n",
              "  <div id=\"df-772a10c4-0863-4652-86e8-c89ef6930e74\">\n",
              "    <div class=\"colab-df-container\">\n",
              "      <div>\n",
              "<style scoped>\n",
              "    .dataframe tbody tr th:only-of-type {\n",
              "        vertical-align: middle;\n",
              "    }\n",
              "\n",
              "    .dataframe tbody tr th {\n",
              "        vertical-align: top;\n",
              "    }\n",
              "\n",
              "    .dataframe thead th {\n",
              "        text-align: right;\n",
              "    }\n",
              "</style>\n",
              "<table border=\"1\" class=\"dataframe\">\n",
              "  <thead>\n",
              "    <tr style=\"text-align: right;\">\n",
              "      <th></th>\n",
              "      <th>sku</th>\n",
              "      <th>national_inv</th>\n",
              "      <th>lead_time</th>\n",
              "      <th>in_transit_qty</th>\n",
              "      <th>forecast_3_month</th>\n",
              "      <th>forecast_6_month</th>\n",
              "      <th>forecast_9_month</th>\n",
              "      <th>sales_1_month</th>\n",
              "      <th>sales_3_month</th>\n",
              "      <th>sales_6_month</th>\n",
              "      <th>sales_9_month</th>\n",
              "      <th>min_bank</th>\n",
              "      <th>pieces_past_due</th>\n",
              "      <th>perf_6_month_avg</th>\n",
              "      <th>perf_12_month_avg</th>\n",
              "      <th>local_bo_qty</th>\n",
              "    </tr>\n",
              "  </thead>\n",
              "  <tbody>\n",
              "    <tr>\n",
              "      <th>count</th>\n",
              "      <td>8.660400e+04</td>\n",
              "      <td>8.660400e+04</td>\n",
              "      <td>81436.000000</td>\n",
              "      <td>86603.000000</td>\n",
              "      <td>8.660300e+04</td>\n",
              "      <td>8.660300e+04</td>\n",
              "      <td>8.660300e+04</td>\n",
              "      <td>86603.000000</td>\n",
              "      <td>86603.000000</td>\n",
              "      <td>8.660300e+04</td>\n",
              "      <td>8.660300e+04</td>\n",
              "      <td>86603.000000</td>\n",
              "      <td>86603.000000</td>\n",
              "      <td>86603.000000</td>\n",
              "      <td>86603.000000</td>\n",
              "      <td>86603.000000</td>\n",
              "    </tr>\n",
              "    <tr>\n",
              "      <th>mean</th>\n",
              "      <td>1.154790e+06</td>\n",
              "      <td>6.417999e+02</td>\n",
              "      <td>7.849109</td>\n",
              "      <td>46.161426</td>\n",
              "      <td>1.876321e+02</td>\n",
              "      <td>3.646151e+02</td>\n",
              "      <td>5.264483e+02</td>\n",
              "      <td>62.377527</td>\n",
              "      <td>189.808378</td>\n",
              "      <td>3.687682e+02</td>\n",
              "      <td>5.842269e+02</td>\n",
              "      <td>61.132986</td>\n",
              "      <td>1.859093</td>\n",
              "      <td>-6.944124</td>\n",
              "      <td>-6.489125</td>\n",
              "      <td>0.544681</td>\n",
              "    </tr>\n",
              "    <tr>\n",
              "      <th>std</th>\n",
              "      <td>2.510941e+04</td>\n",
              "      <td>4.836381e+04</td>\n",
              "      <td>6.965915</td>\n",
              "      <td>1510.020780</td>\n",
              "      <td>5.722026e+03</td>\n",
              "      <td>1.113656e+04</td>\n",
              "      <td>1.547578e+04</td>\n",
              "      <td>2076.185936</td>\n",
              "      <td>5647.623497</td>\n",
              "      <td>1.065543e+04</td>\n",
              "      <td>1.742341e+04</td>\n",
              "      <td>1740.861199</td>\n",
              "      <td>147.691299</td>\n",
              "      <td>26.683748</td>\n",
              "      <td>25.932820</td>\n",
              "      <td>24.754973</td>\n",
              "    </tr>\n",
              "    <tr>\n",
              "      <th>min</th>\n",
              "      <td>1.026827e+06</td>\n",
              "      <td>-1.302000e+03</td>\n",
              "      <td>0.000000</td>\n",
              "      <td>0.000000</td>\n",
              "      <td>0.000000e+00</td>\n",
              "      <td>0.000000e+00</td>\n",
              "      <td>0.000000e+00</td>\n",
              "      <td>0.000000</td>\n",
              "      <td>0.000000</td>\n",
              "      <td>0.000000e+00</td>\n",
              "      <td>0.000000e+00</td>\n",
              "      <td>0.000000</td>\n",
              "      <td>0.000000</td>\n",
              "      <td>-99.000000</td>\n",
              "      <td>-99.000000</td>\n",
              "      <td>0.000000</td>\n",
              "    </tr>\n",
              "    <tr>\n",
              "      <th>25%</th>\n",
              "      <td>1.133170e+06</td>\n",
              "      <td>4.000000e+00</td>\n",
              "      <td>4.000000</td>\n",
              "      <td>0.000000</td>\n",
              "      <td>0.000000e+00</td>\n",
              "      <td>0.000000e+00</td>\n",
              "      <td>0.000000e+00</td>\n",
              "      <td>0.000000</td>\n",
              "      <td>0.000000</td>\n",
              "      <td>0.000000e+00</td>\n",
              "      <td>0.000000e+00</td>\n",
              "      <td>0.000000</td>\n",
              "      <td>0.000000</td>\n",
              "      <td>0.640000</td>\n",
              "      <td>0.660000</td>\n",
              "      <td>0.000000</td>\n",
              "    </tr>\n",
              "    <tr>\n",
              "      <th>50%</th>\n",
              "      <td>1.154820e+06</td>\n",
              "      <td>1.500000e+01</td>\n",
              "      <td>8.000000</td>\n",
              "      <td>0.000000</td>\n",
              "      <td>0.000000e+00</td>\n",
              "      <td>0.000000e+00</td>\n",
              "      <td>0.000000e+00</td>\n",
              "      <td>0.000000</td>\n",
              "      <td>1.000000</td>\n",
              "      <td>2.000000e+00</td>\n",
              "      <td>4.000000e+00</td>\n",
              "      <td>0.000000</td>\n",
              "      <td>0.000000</td>\n",
              "      <td>0.820000</td>\n",
              "      <td>0.810000</td>\n",
              "      <td>0.000000</td>\n",
              "    </tr>\n",
              "    <tr>\n",
              "      <th>75%</th>\n",
              "      <td>1.176471e+06</td>\n",
              "      <td>8.100000e+01</td>\n",
              "      <td>9.000000</td>\n",
              "      <td>0.000000</td>\n",
              "      <td>4.000000e+00</td>\n",
              "      <td>1.200000e+01</td>\n",
              "      <td>2.000000e+01</td>\n",
              "      <td>4.000000</td>\n",
              "      <td>15.000000</td>\n",
              "      <td>3.100000e+01</td>\n",
              "      <td>4.700000e+01</td>\n",
              "      <td>3.000000</td>\n",
              "      <td>0.000000</td>\n",
              "      <td>0.970000</td>\n",
              "      <td>0.950000</td>\n",
              "      <td>0.000000</td>\n",
              "    </tr>\n",
              "    <tr>\n",
              "      <th>max</th>\n",
              "      <td>1.237426e+06</td>\n",
              "      <td>1.233440e+07</td>\n",
              "      <td>52.000000</td>\n",
              "      <td>288960.000000</td>\n",
              "      <td>1.046592e+06</td>\n",
              "      <td>2.104128e+06</td>\n",
              "      <td>3.002688e+06</td>\n",
              "      <td>361803.000000</td>\n",
              "      <td>884575.000000</td>\n",
              "      <td>1.763533e+06</td>\n",
              "      <td>2.758103e+06</td>\n",
              "      <td>309667.000000</td>\n",
              "      <td>27648.000000</td>\n",
              "      <td>1.000000</td>\n",
              "      <td>1.000000</td>\n",
              "      <td>5208.000000</td>\n",
              "    </tr>\n",
              "  </tbody>\n",
              "</table>\n",
              "</div>\n",
              "      <button class=\"colab-df-convert\" onclick=\"convertToInteractive('df-772a10c4-0863-4652-86e8-c89ef6930e74')\"\n",
              "              title=\"Convert this dataframe to an interactive table.\"\n",
              "              style=\"display:none;\">\n",
              "        \n",
              "  <svg xmlns=\"http://www.w3.org/2000/svg\" height=\"24px\"viewBox=\"0 0 24 24\"\n",
              "       width=\"24px\">\n",
              "    <path d=\"M0 0h24v24H0V0z\" fill=\"none\"/>\n",
              "    <path d=\"M18.56 5.44l.94 2.06.94-2.06 2.06-.94-2.06-.94-.94-2.06-.94 2.06-2.06.94zm-11 1L8.5 8.5l.94-2.06 2.06-.94-2.06-.94L8.5 2.5l-.94 2.06-2.06.94zm10 10l.94 2.06.94-2.06 2.06-.94-2.06-.94-.94-2.06-.94 2.06-2.06.94z\"/><path d=\"M17.41 7.96l-1.37-1.37c-.4-.4-.92-.59-1.43-.59-.52 0-1.04.2-1.43.59L10.3 9.45l-7.72 7.72c-.78.78-.78 2.05 0 2.83L4 21.41c.39.39.9.59 1.41.59.51 0 1.02-.2 1.41-.59l7.78-7.78 2.81-2.81c.8-.78.8-2.07 0-2.86zM5.41 20L4 18.59l7.72-7.72 1.47 1.35L5.41 20z\"/>\n",
              "  </svg>\n",
              "      </button>\n",
              "      \n",
              "  <style>\n",
              "    .colab-df-container {\n",
              "      display:flex;\n",
              "      flex-wrap:wrap;\n",
              "      gap: 12px;\n",
              "    }\n",
              "\n",
              "    .colab-df-convert {\n",
              "      background-color: #E8F0FE;\n",
              "      border: none;\n",
              "      border-radius: 50%;\n",
              "      cursor: pointer;\n",
              "      display: none;\n",
              "      fill: #1967D2;\n",
              "      height: 32px;\n",
              "      padding: 0 0 0 0;\n",
              "      width: 32px;\n",
              "    }\n",
              "\n",
              "    .colab-df-convert:hover {\n",
              "      background-color: #E2EBFA;\n",
              "      box-shadow: 0px 1px 2px rgba(60, 64, 67, 0.3), 0px 1px 3px 1px rgba(60, 64, 67, 0.15);\n",
              "      fill: #174EA6;\n",
              "    }\n",
              "\n",
              "    [theme=dark] .colab-df-convert {\n",
              "      background-color: #3B4455;\n",
              "      fill: #D2E3FC;\n",
              "    }\n",
              "\n",
              "    [theme=dark] .colab-df-convert:hover {\n",
              "      background-color: #434B5C;\n",
              "      box-shadow: 0px 1px 3px 1px rgba(0, 0, 0, 0.15);\n",
              "      filter: drop-shadow(0px 1px 2px rgba(0, 0, 0, 0.3));\n",
              "      fill: #FFFFFF;\n",
              "    }\n",
              "  </style>\n",
              "\n",
              "      <script>\n",
              "        const buttonEl =\n",
              "          document.querySelector('#df-772a10c4-0863-4652-86e8-c89ef6930e74 button.colab-df-convert');\n",
              "        buttonEl.style.display =\n",
              "          google.colab.kernel.accessAllowed ? 'block' : 'none';\n",
              "\n",
              "        async function convertToInteractive(key) {\n",
              "          const element = document.querySelector('#df-772a10c4-0863-4652-86e8-c89ef6930e74');\n",
              "          const dataTable =\n",
              "            await google.colab.kernel.invokeFunction('convertToInteractive',\n",
              "                                                     [key], {});\n",
              "          if (!dataTable) return;\n",
              "\n",
              "          const docLinkHtml = 'Like what you see? Visit the ' +\n",
              "            '<a target=\"_blank\" href=https://colab.research.google.com/notebooks/data_table.ipynb>data table notebook</a>'\n",
              "            + ' to learn more about interactive tables.';\n",
              "          element.innerHTML = '';\n",
              "          dataTable['output_type'] = 'display_data';\n",
              "          await google.colab.output.renderOutput(dataTable, element);\n",
              "          const docLink = document.createElement('div');\n",
              "          docLink.innerHTML = docLinkHtml;\n",
              "          element.appendChild(docLink);\n",
              "        }\n",
              "      </script>\n",
              "    </div>\n",
              "  </div>\n",
              "  "
            ]
          },
          "metadata": {},
          "execution_count": 7
        }
      ],
      "source": [
        "train.describe()"
      ]
    },
    {
      "cell_type": "code",
      "execution_count": 8,
      "id": "7009362b",
      "metadata": {
        "id": "7009362b"
      },
      "outputs": [],
      "source": [
        "import seaborn as sns"
      ]
    },
    {
      "cell_type": "code",
      "execution_count": 9,
      "id": "c1abad7e",
      "metadata": {
        "colab": {
          "base_uri": "https://localhost:8080/",
          "height": 570
        },
        "id": "c1abad7e",
        "outputId": "4dee121a-cd87-4b5c-a43a-8300e969b128"
      },
      "outputs": [
        {
          "output_type": "execute_result",
          "data": {
            "text/plain": [
              "<Axes: >"
            ]
          },
          "metadata": {},
          "execution_count": 9
        },
        {
          "output_type": "display_data",
          "data": {
            "text/plain": [
              "<Figure size 640x480 with 1 Axes>"
            ],
            "image/png": "[encoded data removed]"
          },
          "metadata": {}
        }
      ],
      "source": [
        "sns.heatmap(train.isnull(),yticklabels=False,cbar=False,cmap='viridis')"
      ]
    },
    {
      "cell_type": "code",
      "execution_count": 10,
      "id": "b9fe1c36",
      "metadata": {
        "colab": {
          "base_uri": "https://localhost:8080/"
        },
        "id": "b9fe1c36",
        "outputId": "d3ae1b43-7511-43e7-d0e4-2d1ffc1958ea"
      },
      "outputs": [
        {
          "output_type": "execute_result",
          "data": {
            "text/plain": [
              "sku                     0\n",
              "national_inv            0\n",
              "lead_time            5168\n",
              "in_transit_qty          1\n",
              "forecast_3_month        1\n",
              "forecast_6_month        1\n",
              "forecast_9_month        1\n",
              "sales_1_month           1\n",
              "sales_3_month           1\n",
              "sales_6_month           1\n",
              "sales_9_month           1\n",
              "min_bank                1\n",
              "potential_issue         1\n",
              "pieces_past_due         1\n",
              "perf_6_month_avg        1\n",
              "perf_12_month_avg       1\n",
              "local_bo_qty            1\n",
              "deck_risk               1\n",
              "oe_constraint           1\n",
              "ppap_risk               1\n",
              "stop_auto_buy           1\n",
              "rev_stop                1\n",
              "went_on_backorder       1\n",
              "dtype: int64"
            ]
          },
          "metadata": {},
          "execution_count": 10
        }
      ],
      "source": [
        "train.isnull().sum()"
      ]
    },
    {
      "cell_type": "code",
      "execution_count": 11,
      "id": "7fdf31d8",
      "metadata": {
        "id": "7fdf31d8"
      },
      "outputs": [],
      "source": [
        "train.drop(['sku'], axis=1, inplace=True)"
      ]
    },
    {
      "cell_type": "code",
      "execution_count": 12,
      "id": "eba2a98d",
      "metadata": {
        "colab": {
          "base_uri": "https://localhost:8080/",
          "height": 467
        },
        "id": "eba2a98d",
        "outputId": "199991f2-1dbd-479b-a60c-7a75835fa794"
      },
      "outputs": [
        {
          "output_type": "execute_result",
          "data": {
            "text/plain": [
              "<Axes: xlabel='went_on_backorder', ylabel='count'>"
            ]
          },
          "metadata": {},
          "execution_count": 12
        },
        {
          "output_type": "display_data",
          "data": {
            "text/plain": [
              "<Figure size 640x480 with 1 Axes>"
            ],
            "image/png": "[encoded data removed]"
          },
          "metadata": {}
        }
      ],
      "source": [
        "sns.countplot(x=\"went_on_backorder\", data=train )"
      ]
    },
    {
      "cell_type": "code",
      "execution_count": 13,
      "id": "6e9bc646",
      "metadata": {
        "id": "6e9bc646"
      },
      "outputs": [],
      "source": [
        "train[['deck_risk','oe_constraint','ppap_risk','stop_auto_buy','rev_stop', \n",
        "              'potential_issue']]=train[['deck_risk','oe_constraint','ppap_risk','stop_auto_buy','rev_stop', \n",
        "              'potential_issue']].replace({'Yes':1, 'No':0})"
      ]
    },
    {
      "cell_type": "code",
      "execution_count": 14,
      "id": "e4144512",
      "metadata": {
        "colab": {
          "base_uri": "https://localhost:8080/"
        },
        "id": "e4144512",
        "outputId": "2ef56b21-61f0-4206-8569-19e36d1d7e7b"
      },
      "outputs": [
        {
          "output_type": "stream",
          "name": "stdout",
          "text": [
            "<class 'pandas.core.frame.DataFrame'>\n",
            "RangeIndex: 86604 entries, 0 to 86603\n",
            "Data columns (total 22 columns):\n",
            " #   Column             Non-Null Count  Dtype  \n",
            "---  ------             --------------  -----  \n",
            " 0   national_inv       86604 non-null  int64  \n",
            " 1   lead_time          81436 non-null  float64\n",
            " 2   in_transit_qty     86603 non-null  float64\n",
            " 3   forecast_3_month   86603 non-null  float64\n",
            " 4   forecast_6_month   86603 non-null  float64\n",
            " 5   forecast_9_month   86603 non-null  float64\n",
            " 6   sales_1_month      86603 non-null  float64\n",
            " 7   sales_3_month      86603 non-null  float64\n",
            " 8   sales_6_month      86603 non-null  float64\n",
            " 9   sales_9_month      86603 non-null  float64\n",
            " 10  min_bank           86603 non-null  float64\n",
            " 11  potential_issue    86603 non-null  float64\n",
            " 12  pieces_past_due    86603 non-null  float64\n",
            " 13  perf_6_month_avg   86603 non-null  float64\n",
            " 14  perf_12_month_avg  86603 non-null  float64\n",
            " 15  local_bo_qty       86603 non-null  float64\n",
            " 16  deck_risk          86603 non-null  float64\n",
            " 17  oe_constraint      86603 non-null  float64\n",
            " 18  ppap_risk          86603 non-null  float64\n",
            " 19  stop_auto_buy      86603 non-null  float64\n",
            " 20  rev_stop           86603 non-null  float64\n",
            " 21  went_on_backorder  86603 non-null  object \n",
            "dtypes: float64(20), int64(1), object(1)\n",
            "memory usage: 14.5+ MB\n"
          ]
        }
      ],
      "source": [
        "train.info()"
      ]
    },
    {
      "cell_type": "code",
      "execution_count": 15,
      "id": "2ce0d717",
      "metadata": {
        "id": "2ce0d717"
      },
      "outputs": [],
      "source": [
        "x = train.drop(['went_on_backorder'], axis =1)\n",
        "y = train['went_on_backorder']"
      ]
    },
    {
      "cell_type": "code",
      "execution_count": 16,
      "id": "c4974659",
      "metadata": {
        "scrolled": true,
        "id": "c4974659"
      },
      "outputs": [],
      "source": [
        "#creating the pipeline for the imputation and scaling for numerical features\n",
        "from sklearn.pipeline import Pipeline\n",
        "\n",
        "num_preprocessor = Pipeline(\n",
        "    steps = [('imputation_mean', SimpleImputer(missing_values = np.nan, strategy='mean')),\n",
        "            ('robust_scaler', RobustScaler()),\n",
        "            ])"
      ]
    },
    {
      "cell_type": "code",
      "execution_count": 17,
      "id": "070084a5",
      "metadata": {
        "id": "070084a5"
      },
      "outputs": [],
      "source": [
        "#creating the pipeline for categorical features\n",
        "cat_preprocessor = Pipeline(\n",
        "    steps=[\n",
        "        ('imputation_constant', SimpleImputer(strategy='most_frequent'))\n",
        "        \n",
        "    ]\n",
        ")"
      ]
    },
    {
      "cell_type": "code",
      "execution_count": 18,
      "id": "13e1f027",
      "metadata": {
        "id": "13e1f027"
      },
      "outputs": [],
      "source": [
        "preprocessor = ColumnTransformer(\n",
        "    [\n",
        "        \n",
        "        ('categorical', cat_preprocessor,['rev_stop', 'stop_auto_buy', \n",
        "                                       'ppap_risk', 'oe_constraint', 'deck_risk', 'potential_issue']),\n",
        "        \n",
        "        ('numerical', num_preprocessor, ['national_inv', 'in_transit_qty', 'lead_time', 'forecast_3_month', \n",
        "                                          'forecast_6_month', 'forecast_9_month', 'sales_1_month', 'sales_3_month', \n",
        "                                          'sales_6_month', 'sales_9_month', 'min_bank', 'pieces_past_due', \n",
        "                                          'perf_12_month_avg', 'perf_12_month_avg', 'local_bo_qty'])\n",
        "        \n",
        "        \n",
        "    ]\n",
        ")"
      ]
    },
    {
      "cell_type": "code",
      "execution_count": 19,
      "id": "d555bb50",
      "metadata": {
        "id": "d555bb50"
      },
      "outputs": [],
      "source": [
        "def evaluate_clf(true, predicted):\n",
        "    '''\n",
        "    This function takes in true values and predicted values\n",
        "    Returns: Accuracy, F1-Score, Precision, Recall, Roc-auc Score\n",
        "    '''\n",
        "    acc = accuracy_score(true, predicted) # Calculate Accuracy\n",
        "    f1 = f1_score(true, predicted) # Calculate F1-score\n",
        "    precision = precision_score(true, predicted) # Calculate Precision\n",
        "    recall = recall_score(true, predicted)  # Calculate Recall\n",
        "    roc_auc = roc_auc_score(true, predicted) #Calculate Roc\n",
        "    return acc, f1 , precision, recall, roc_auc"
      ]
    },
    {
      "cell_type": "code",
      "execution_count": 20,
      "id": "888bba0d",
      "metadata": {
        "id": "888bba0d"
      },
      "outputs": [],
      "source": [
        "#creating the function to calculate the cost of the model\n",
        "\n",
        "def total_cost(y_true, y_pred):\n",
        "    '''\n",
        "    This function takes y_true, y_predicted, and prints Total cost due to misclassification\n",
        "   \n",
        "    '''\n",
        "    tn, fp, fn, tp = confusion_matrix(y_true, y_pred).ravel()\n",
        "    cost = 10*fp + 500*fn\n",
        "    return cost"
      ]
    },
    {
      "cell_type": "code",
      "execution_count": 21,
      "id": "3f95ddf5",
      "metadata": {
        "id": "3f95ddf5"
      },
      "outputs": [],
      "source": [
        "# Create a function which can evaluate models and return a report \n",
        "def evaluate_models(X, y, models):\n",
        "    '''\n",
        "    This function takes in X and y and models dictionary as input\n",
        "    It splits the data into Train Test split\n",
        "    Iterates through the given model dictionary and evaluates the metrics\n",
        "    Returns: Dataframe which contains report of all models metrics with cost\n",
        "    '''\n",
        "    # separate dataset into train and test\n",
        "    X_train, X_test, y_train, y_test = train_test_split(X,y,test_size=0.2,random_state=42)\n",
        "    \n",
        "    cost_list=[]\n",
        "    models_list = []\n",
        "    accuracy_list = []\n",
        "    \n",
        "    for i in range(len(list(models))):\n",
        "        model = list(models.values())[i]\n",
        "        model.fit(X_train, y_train) # Train model\n",
        "\n",
        "        # Make predictions\n",
        "        y_train_pred = model.predict(X_train)\n",
        "        y_test_pred = model.predict(X_test)\n",
        "\n",
        "        # Training set performance\n",
        "        model_train_accuracy, model_train_f1,model_train_precision,\\\n",
        "        model_train_recall,model_train_rocauc_score=evaluate_clf(y_train ,y_train_pred)\n",
        "        train_cost = total_cost(y_train, y_train_pred)\n",
        "\n",
        "\n",
        "        # Test set performance\n",
        "        model_test_accuracy,model_test_f1,model_test_precision,\\\n",
        "        model_test_recall,model_test_rocauc_score=evaluate_clf(y_test, y_test_pred)\n",
        "        test_cost = total_cost(y_test, y_test_pred)\n",
        "\n",
        "        print(list(models.keys())[i])\n",
        "        models_list.append(list(models.keys())[i])\n",
        "\n",
        "        print('Model performance for Training set')\n",
        "        print(\"- Accuracy: {:.4f}\".format(model_train_accuracy))\n",
        "        print('- F1 score: {:.4f}'.format(model_train_f1)) \n",
        "        print('- Precision: {:.4f}'.format(model_train_precision))\n",
        "        print('- Recall: {:.4f}'.format(model_train_recall))\n",
        "        print('- Roc Auc Score: {:.4f}'.format(model_train_rocauc_score))\n",
        "        print(f'- COST: {train_cost}.')\n",
        "\n",
        "        print('----------------------------------')\n",
        "\n",
        "        print('Model performance for Test set')\n",
        "        print('- Accuracy: {:.4f}'.format(model_test_accuracy))\n",
        "        print('- F1 score: {:.4f}'.format(model_test_f1))\n",
        "        print('- Precision: {:.4f}'.format(model_test_precision))\n",
        "        print('- Recall: {:.4f}'.format(model_test_recall))\n",
        "        print('- Roc Auc Score: {:.4f}'.format(model_test_rocauc_score))\n",
        "        print(f'- COST: {test_cost}.')\n",
        "        cost_list.append(test_cost)\n",
        "        print('='*35)\n",
        "        print('\\n')\n",
        "        \n",
        "    report=pd.DataFrame(list(zip(models_list, cost_list)), columns=['Model Name', 'Cost']).sort_values(by=[\"Cost\"])\n",
        "        \n",
        "    return report"
      ]
    },
    {
      "cell_type": "code",
      "execution_count": 22,
      "id": "6c4fbe67",
      "metadata": {
        "colab": {
          "base_uri": "https://localhost:8080/",
          "height": 1000
        },
        "id": "6c4fbe67",
        "outputId": "1b6b0331-8b8e-423c-8737-a3fb5076df19"
      },
      "outputs": [
        {
          "output_type": "display_data",
          "data": {
            "text/plain": [
              "<Figure size 1500x10000 with 21 Axes>"
            ],
            "image/png": "[encoded data removed]"
          },
          "metadata": {}
        }
      ],
      "source": [
        "numeric_features = [feature for feature in train.columns if train[feature].dtype != 'O']\n",
        "\n",
        "plt.figure(figsize=(15, 100))\n",
        "for i, col in enumerate(numeric_features):\n",
        "    plt.subplot(60, 3, i+1)\n",
        "    sns.distplot(x=train[col], color='indianred')\n",
        "    plt.xlabel(col, weight='bold')\n",
        "    plt.tight_layout()"
      ]
    },
    {
      "cell_type": "code",
      "execution_count": 23,
      "id": "3493a9d5",
      "metadata": {
        "id": "3493a9d5"
      },
      "outputs": [],
      "source": [
        "y=y.replace({'Yes':1, 'No':0})"
      ]
    },
    {
      "cell_type": "code",
      "execution_count": 24,
      "id": "d9ab70f4",
      "metadata": {
        "scrolled": false,
        "colab": {
          "base_uri": "https://localhost:8080/"
        },
        "id": "d9ab70f4",
        "outputId": "e5016468-4f0f-4ce0-b476-40b03661d819"
      },
      "outputs": [
        {
          "output_type": "execute_result",
          "data": {
            "text/plain": [
              "0.0    85724\n",
              "1.0      879\n",
              "Name: went_on_backorder, dtype: int64"
            ]
          },
          "metadata": {},
          "execution_count": 24
        }
      ],
      "source": [
        "y.value_counts()"
      ]
    },
    {
      "cell_type": "code",
      "execution_count": 25,
      "id": "ba371515",
      "metadata": {
        "id": "ba371515"
      },
      "outputs": [],
      "source": [
        "y.fillna(method='ffill', inplace=True)"
      ]
    },
    {
      "cell_type": "code",
      "execution_count": 26,
      "id": "c18c4fb6",
      "metadata": {
        "id": "c18c4fb6"
      },
      "outputs": [],
      "source": [
        "X_preprocessed = preprocessor.fit_transform(x)"
      ]
    },
    {
      "cell_type": "code",
      "execution_count": 27,
      "id": "5ed5c4c3",
      "metadata": {
        "id": "5ed5c4c3"
      },
      "outputs": [],
      "source": [
        "from imblearn.combine import SMOTETomek"
      ]
    },
    {
      "cell_type": "code",
      "execution_count": 28,
      "id": "cb0b0216",
      "metadata": {
        "scrolled": true,
        "colab": {
          "base_uri": "https://localhost:8080/"
        },
        "id": "cb0b0216",
        "outputId": "ce19d7b6-18bd-47ed-cca8-38411c331b5e"
      },
      "outputs": [
        {
          "output_type": "execute_result",
          "data": {
            "text/plain": [
              "(86604,)"
            ]
          },
          "metadata": {},
          "execution_count": 28
        }
      ],
      "source": [
        "y.shape"
      ]
    },
    {
      "cell_type": "code",
      "execution_count": 29,
      "id": "712f260e",
      "metadata": {
        "colab": {
          "base_uri": "https://localhost:8080/"
        },
        "id": "712f260e",
        "outputId": "06be6587-97dd-49fa-a193-b5b970b4244f"
      },
      "outputs": [
        {
          "output_type": "execute_result",
          "data": {
            "text/plain": [
              "(86604, 21)"
            ]
          },
          "metadata": {},
          "execution_count": 29
        }
      ],
      "source": [
        "x.shape"
      ]
    },
    {
      "cell_type": "code",
      "execution_count": 30,
      "id": "80eb0ce2",
      "metadata": {
        "id": "80eb0ce2"
      },
      "outputs": [],
      "source": [
        "smt = SMOTETomek(random_state=42, sampling_strategy='minority', n_jobs=-1)\n",
        "X_res, y_res = smt.fit_resample(X_preprocessed, y)"
      ]
    },
    {
      "cell_type": "code",
      "execution_count": 31,
      "id": "e1ecaabc",
      "metadata": {
        "id": "e1ecaabc"
      },
      "outputs": [],
      "source": [
        "# Dictionary which contains models for experiment\n",
        "models = {\n",
        "    \"Random Forest\": RandomForestClassifier(),\n",
        "    \"Decision Tree\": DecisionTreeClassifier(),\n",
        "    \"Gradient Boosting\": GradientBoostingClassifier(),\n",
        "    \"Logistic Regression\": LogisticRegression(),\n",
        "     \"K-Neighbors Classifier\": KNeighborsClassifier(),\n",
        "    \"XGBClassifier\": XGBClassifier(), \n",
        "     \"CatBoosting Classifier\": CatBoostClassifier(verbose=False),\n",
        "    \"AdaBoost Classifier\": AdaBoostClassifier()\n",
        "}"
      ]
    },
    {
      "cell_type": "code",
      "source": [
        "report = evaluate_models(X_res, y_res, models)"
      ],
      "metadata": {
        "id": "MqUSKUnCgkvH",
        "outputId": "9153f7c4-cd67-4b2f-bab9-0845809ef77a",
        "colab": {
          "base_uri": "https://localhost:8080/"
        }
      },
      "id": "MqUSKUnCgkvH",
      "execution_count": 32,
      "outputs": [
        {
          "output_type": "stream",
          "name": "stdout",
          "text": [
            "Random Forest\n",
            "Model performance for Training set\n",
            "- Accuracy: 0.9997\n",
            "- F1 score: 0.9997\n",
            "- Precision: 0.9998\n",
            "- Recall: 0.9997\n",
            "- Roc Auc Score: 0.9997\n",
            "- COST: 11170.\n",
            "----------------------------------\n",
            "Model performance for Test set\n",
            "- Accuracy: 0.9930\n",
            "- F1 score: 0.9930\n",
            "- Precision: 0.9906\n",
            "- Recall: 0.9955\n",
            "- Roc Auc Score: 0.9929\n",
            "- COST: 40140.\n",
            "===================================\n",
            "\n",
            "\n",
            "Decision Tree\n",
            "Model performance for Training set\n",
            "- Accuracy: 0.9997\n",
            "- F1 score: 0.9997\n",
            "- Precision: 0.9998\n",
            "- Recall: 0.9997\n",
            "- Roc Auc Score: 0.9997\n",
            "- COST: 11660.\n",
            "----------------------------------\n",
            "Model performance for Test set\n",
            "- Accuracy: 0.9861\n",
            "- F1 score: 0.9862\n",
            "- Precision: 0.9821\n",
            "- Recall: 0.9904\n",
            "- Roc Auc Score: 0.9860\n",
            "- COST: 86120.\n",
            "===================================\n",
            "\n",
            "\n",
            "Gradient Boosting\n",
            "Model performance for Training set\n",
            "- Accuracy: 0.9462\n",
            "- F1 score: 0.9467\n",
            "- Precision: 0.9360\n",
            "- Recall: 0.9577\n",
            "- Roc Auc Score: 0.9463\n",
            "- COST: 1491300.\n",
            "----------------------------------\n",
            "Model performance for Test set\n",
            "- Accuracy: 0.9460\n",
            "- F1 score: 0.9470\n",
            "- Precision: 0.9366\n",
            "- Recall: 0.9576\n",
            "- Roc Auc Score: 0.9459\n",
            "- COST: 377200.\n",
            "===================================\n",
            "\n",
            "\n",
            "Logistic Regression\n",
            "Model performance for Training set\n",
            "- Accuracy: 0.7696\n",
            "- F1 score: 0.7877\n",
            "- Precision: 0.7291\n",
            "- Recall: 0.8566\n",
            "- Roc Auc Score: 0.7698\n",
            "- COST: 5123260.\n",
            "----------------------------------\n",
            "Model performance for Test set\n",
            "- Accuracy: 0.7713\n",
            "- F1 score: 0.7907\n",
            "- Precision: 0.7338\n",
            "- Recall: 0.8572\n",
            "- Roc Auc Score: 0.7706\n",
            "- COST: 1287220.\n",
            "===================================\n",
            "\n",
            "\n",
            "K-Neighbors Classifier\n",
            "Model performance for Training set\n",
            "- Accuracy: 0.9745\n",
            "- F1 score: 0.9751\n",
            "- Precision: 0.9524\n",
            "- Recall: 0.9989\n",
            "- Roc Auc Score: 0.9746\n",
            "- COST: 72640.\n",
            "----------------------------------\n",
            "Model performance for Test set\n",
            "- Accuracy: 0.9647\n",
            "- F1 score: 0.9661\n",
            "- Precision: 0.9362\n",
            "- Recall: 0.9979\n",
            "- Roc Auc Score: 0.9644\n",
            "- COST: 29750.\n",
            "===================================\n",
            "\n",
            "\n",
            "XGBClassifier\n",
            "Model performance for Training set\n",
            "- Accuracy: 0.9957\n",
            "- F1 score: 0.9957\n",
            "- Precision: 0.9974\n",
            "- Recall: 0.9941\n",
            "- Roc Auc Score: 0.9957\n",
            "- COST: 205280.\n",
            "----------------------------------\n",
            "Model performance for Test set\n",
            "- Accuracy: 0.9931\n",
            "- F1 score: 0.9932\n",
            "- Precision: 0.9935\n",
            "- Recall: 0.9929\n",
            "- Roc Auc Score: 0.9931\n",
            "- COST: 62630.\n",
            "===================================\n",
            "\n",
            "\n",
            "CatBoosting Classifier\n",
            "Model performance for Training set\n",
            "- Accuracy: 0.9968\n",
            "- F1 score: 0.9968\n",
            "- Precision: 0.9991\n",
            "- Recall: 0.9945\n",
            "- Roc Auc Score: 0.9968\n",
            "- COST: 188080.\n",
            "----------------------------------\n",
            "Model performance for Test set\n",
            "- Accuracy: 0.9941\n",
            "- F1 score: 0.9941\n",
            "- Precision: 0.9957\n",
            "- Recall: 0.9926\n",
            "- Roc Auc Score: 0.9941\n",
            "- COST: 64740.\n",
            "===================================\n",
            "\n",
            "\n",
            "AdaBoost Classifier\n",
            "Model performance for Training set\n",
            "- Accuracy: 0.9149\n",
            "- F1 score: 0.9149\n",
            "- Precision: 0.9135\n",
            "- Recall: 0.9164\n",
            "- Roc Auc Score: 0.9149\n",
            "- COST: 2920900.\n",
            "----------------------------------\n",
            "Model performance for Test set\n",
            "- Accuracy: 0.9153\n",
            "- F1 score: 0.9161\n",
            "- Precision: 0.9156\n",
            "- Recall: 0.9165\n",
            "- Roc Auc Score: 0.9153\n",
            "- COST: 735600.\n",
            "===================================\n",
            "\n",
            "\n"
          ]
        }
      ]
    },
    {
      "cell_type": "code",
      "source": [
        "report"
      ],
      "metadata": {
        "id": "kbjKq9s2hCn9",
        "outputId": "1bd3ea7e-7b92-4b4b-d31d-7aff2cc37997",
        "colab": {
          "base_uri": "https://localhost:8080/",
          "height": 297
        }
      },
      "id": "kbjKq9s2hCn9",
      "execution_count": 33,
      "outputs": [
        {
          "output_type": "execute_result",
          "data": {
            "text/plain": [
              "               Model Name     Cost\n",
              "4  K-Neighbors Classifier    29750\n",
              "0           Random Forest    40140\n",
              "5           XGBClassifier    62630\n",
              "6  CatBoosting Classifier    64740\n",
              "1           Decision Tree    86120\n",
              "2       Gradient Boosting   377200\n",
              "7     AdaBoost Classifier   735600\n",
              "3     Logistic Regression  1287220"
            ],
            "text/html": [
              "\n",
              "  <div id=\"df-6d7af3df-e1bd-4573-85ed-5805211b6056\">\n",
              "    <div class=\"colab-df-container\">\n",
              "      <div>\n",
              "<style scoped>\n",
              "    .dataframe tbody tr th:only-of-type {\n",
              "        vertical-align: middle;\n",
              "    }\n",
              "\n",
              "    .dataframe tbody tr th {\n",
              "        vertical-align: top;\n",
              "    }\n",
              "\n",
              "    .dataframe thead th {\n",
              "        text-align: right;\n",
              "    }\n",
              "</style>\n",
              "<table border=\"1\" class=\"dataframe\">\n",
              "  <thead>\n",
              "    <tr style=\"text-align: right;\">\n",
              "      <th></th>\n",
              "      <th>Model Name</th>\n",
              "      <th>Cost</th>\n",
              "    </tr>\n",
              "  </thead>\n",
              "  <tbody>\n",
              "    <tr>\n",
              "      <th>4</th>\n",
              "      <td>K-Neighbors Classifier</td>\n",
              "      <td>29750</td>\n",
              "    </tr>\n",
              "    <tr>\n",
              "      <th>0</th>\n",
              "      <td>Random Forest</td>\n",
              "      <td>40140</td>\n",
              "    </tr>\n",
              "    <tr>\n",
              "      <th>5</th>\n",
              "      <td>XGBClassifier</td>\n",
              "      <td>62630</td>\n",
              "    </tr>\n",
              "    <tr>\n",
              "      <th>6</th>\n",
              "      <td>CatBoosting Classifier</td>\n",
              "      <td>64740</td>\n",
              "    </tr>\n",
              "    <tr>\n",
              "      <th>1</th>\n",
              "      <td>Decision Tree</td>\n",
              "      <td>86120</td>\n",
              "    </tr>\n",
              "    <tr>\n",
              "      <th>2</th>\n",
              "      <td>Gradient Boosting</td>\n",
              "      <td>377200</td>\n",
              "    </tr>\n",
              "    <tr>\n",
              "      <th>7</th>\n",
              "      <td>AdaBoost Classifier</td>\n",
              "      <td>735600</td>\n",
              "    </tr>\n",
              "    <tr>\n",
              "      <th>3</th>\n",
              "      <td>Logistic Regression</td>\n",
              "      <td>1287220</td>\n",
              "    </tr>\n",
              "  </tbody>\n",
              "</table>\n",
              "</div>\n",
              "      <button class=\"colab-df-convert\" onclick=\"convertToInteractive('df-6d7af3df-e1bd-4573-85ed-5805211b6056')\"\n",
              "              title=\"Convert this dataframe to an interactive table.\"\n",
              "              style=\"display:none;\">\n",
              "        \n",
              "  <svg xmlns=\"http://www.w3.org/2000/svg\" height=\"24px\"viewBox=\"0 0 24 24\"\n",
              "       width=\"24px\">\n",
              "    <path d=\"M0 0h24v24H0V0z\" fill=\"none\"/>\n",
              "    <path d=\"M18.56 5.44l.94 2.06.94-2.06 2.06-.94-2.06-.94-.94-2.06-.94 2.06-2.06.94zm-11 1L8.5 8.5l.94-2.06 2.06-.94-2.06-.94L8.5 2.5l-.94 2.06-2.06.94zm10 10l.94 2.06.94-2.06 2.06-.94-2.06-.94-.94-2.06-.94 2.06-2.06.94z\"/><path d=\"M17.41 7.96l-1.37-1.37c-.4-.4-.92-.59-1.43-.59-.52 0-1.04.2-1.43.59L10.3 9.45l-7.72 7.72c-.78.78-.78 2.05 0 2.83L4 21.41c.39.39.9.59 1.41.59.51 0 1.02-.2 1.41-.59l7.78-7.78 2.81-2.81c.8-.78.8-2.07 0-2.86zM5.41 20L4 18.59l7.72-7.72 1.47 1.35L5.41 20z\"/>\n",
              "  </svg>\n",
              "      </button>\n",
              "      \n",
              "  <style>\n",
              "    .colab-df-container {\n",
              "      display:flex;\n",
              "      flex-wrap:wrap;\n",
              "      gap: 12px;\n",
              "    }\n",
              "\n",
              "    .colab-df-convert {\n",
              "      background-color: #E8F0FE;\n",
              "      border: none;\n",
              "      border-radius: 50%;\n",
              "      cursor: pointer;\n",
              "      display: none;\n",
              "      fill: #1967D2;\n",
              "      height: 32px;\n",
              "      padding: 0 0 0 0;\n",
              "      width: 32px;\n",
              "    }\n",
              "\n",
              "    .colab-df-convert:hover {\n",
              "      background-color: #E2EBFA;\n",
              "      box-shadow: 0px 1px 2px rgba(60, 64, 67, 0.3), 0px 1px 3px 1px rgba(60, 64, 67, 0.15);\n",
              "      fill: #174EA6;\n",
              "    }\n",
              "\n",
              "    [theme=dark] .colab-df-convert {\n",
              "      background-color: #3B4455;\n",
              "      fill: #D2E3FC;\n",
              "    }\n",
              "\n",
              "    [theme=dark] .colab-df-convert:hover {\n",
              "      background-color: #434B5C;\n",
              "      box-shadow: 0px 1px 3px 1px rgba(0, 0, 0, 0.15);\n",
              "      filter: drop-shadow(0px 1px 2px rgba(0, 0, 0, 0.3));\n",
              "      fill: #FFFFFF;\n",
              "    }\n",
              "  </style>\n",
              "\n",
              "      <script>\n",
              "        const buttonEl =\n",
              "          document.querySelector('#df-6d7af3df-e1bd-4573-85ed-5805211b6056 button.colab-df-convert');\n",
              "        buttonEl.style.display =\n",
              "          google.colab.kernel.accessAllowed ? 'block' : 'none';\n",
              "\n",
              "        async function convertToInteractive(key) {\n",
              "          const element = document.querySelector('#df-6d7af3df-e1bd-4573-85ed-5805211b6056');\n",
              "          const dataTable =\n",
              "            await google.colab.kernel.invokeFunction('convertToInteractive',\n",
              "                                                     [key], {});\n",
              "          if (!dataTable) return;\n",
              "\n",
              "          const docLinkHtml = 'Like what you see? Visit the ' +\n",
              "            '<a target=\"_blank\" href=https://colab.research.google.com/notebooks/data_table.ipynb>data table notebook</a>'\n",
              "            + ' to learn more about interactive tables.';\n",
              "          element.innerHTML = '';\n",
              "          dataTable['output_type'] = 'display_data';\n",
              "          await google.colab.output.renderOutput(dataTable, element);\n",
              "          const docLink = document.createElement('div');\n",
              "          docLink.innerHTML = docLinkHtml;\n",
              "          element.appendChild(docLink);\n",
              "        }\n",
              "      </script>\n",
              "    </div>\n",
              "  </div>\n",
              "  "
            ]
          },
          "metadata": {},
          "execution_count": 33
        }
      ]
    },
    {
      "cell_type": "code",
      "source": [
        "final_model = KNeighborsClassifier()\n",
        "\n",
        "# Resampling the minority class. The strategy can be changed as required.\n",
        "smt = SMOTETomek(random_state=42,sampling_strategy='minority', n_jobs=-1)\n",
        "# Fit the model to generate the data.\n",
        "X_res, y_res = smt.fit_resample(X_preprocessed, y)"
      ],
      "metadata": {
        "id": "i-jpdE8EjM-Y"
      },
      "id": "i-jpdE8EjM-Y",
      "execution_count": 34,
      "outputs": []
    },
    {
      "cell_type": "code",
      "source": [
        "X_train, X_test, y_train, y_test = train_test_split(X_res,y_res,test_size=0.2,random_state=42)\n",
        "\n",
        "final_model = final_model.fit(X_train, y_train)\n",
        "y_pred = final_model.predict(X_test)"
      ],
      "metadata": {
        "id": "eRQGCHmpnqd0"
      },
      "id": "eRQGCHmpnqd0",
      "execution_count": 35,
      "outputs": []
    },
    {
      "cell_type": "code",
      "source": [
        "print(\"Final KNeighbors Classifier Accuracy Score (Train) :\", final_model.score(X_train,y_train))\n",
        "print(\"Final KNeighbors Classifier Accuracy Score (Test) :\", accuracy_score(y_pred,y_test))"
      ],
      "metadata": {
        "id": "vVXwUTcDoEG4",
        "outputId": "76038442-02d8-4326-ed06-d800fc0b62d8",
        "colab": {
          "base_uri": "https://localhost:8080/"
        }
      },
      "id": "vVXwUTcDoEG4",
      "execution_count": 36,
      "outputs": [
        {
          "output_type": "stream",
          "name": "stdout",
          "text": [
            "Final KNeighbors Classifier Accuracy Score (Train) : 0.9745411054308906\n",
            "Final KNeighbors Classifier Accuracy Score (Test) : 0.964674309384207\n"
          ]
        }
      ]
    },
    {
      "cell_type": "code",
      "source": [
        "print(\"Final KNeighbors Classifier Cost Metric(Test) :\",total_cost(y_test, y_pred))"
      ],
      "metadata": {
        "id": "YUeimwDcoguJ",
        "outputId": "214612f6-33b4-431a-b25c-bc7af460aaf7",
        "colab": {
          "base_uri": "https://localhost:8080/"
        }
      },
      "id": "YUeimwDcoguJ",
      "execution_count": 37,
      "outputs": [
        {
          "output_type": "stream",
          "name": "stdout",
          "text": [
            "Final KNeighbors Classifier Cost Metric(Test) : 29750\n"
          ]
        }
      ]
    },
    {
      "cell_type": "code",
      "source": [
        "from sklearn.metrics import confusion_matrix\n",
        "import matplotlib.pyplot as plt\n",
        "import numpy as np\n",
        "\n",
        "# Calculate the confusion matrix\n",
        "confusion = confusion_matrix(y_test, y_pred)\n",
        "\n",
        "# Plot the confusion matrix as a heatmap\n",
        "plt.imshow(confusion, cmap=plt.cm.Blues)\n",
        "plt.xlabel(\"Predicted labels\")\n",
        "plt.ylabel(\"True labels\")\n",
        "plt.xticks([0, 1, 2])\n",
        "plt.yticks([0, 1, 2])\n",
        "plt.colorbar()\n",
        "\n",
        "# Add counts to the heatmap\n",
        "for i in range(confusion.shape[0]):\n",
        "    for j in range(confusion.shape[1]):\n",
        "        plt.text(j, i, confusion[i, j], ha=\"center\", va=\"center\")\n",
        "\n",
        "plt.show()"
      ],
      "metadata": {
        "id": "3UIvfVC-pGLO",
        "outputId": "05ac136e-87b4-420f-9fed-fb7b948e6858",
        "colab": {
          "base_uri": "https://localhost:8080/",
          "height": 449
        }
      },
      "id": "3UIvfVC-pGLO",
      "execution_count": 42,
      "outputs": [
        {
          "output_type": "display_data",
          "data": {
            "text/plain": [
              "<Figure size 640x480 with 2 Axes>"
            ],
            "image/png": "[encoded data removed]"
          },
          "metadata": {}
        }
      ]
    },
    {
      "cell_type": "code",
      "source": [],
      "metadata": {
        "id": "i-4JY66tpJio"
      },
      "id": "i-4JY66tpJio",
      "execution_count": null,
      "outputs": []
    }
  ],
  "metadata": {
    "kernelspec": {
      "display_name": "Python 3",
      "language": "python",
      "name": "python3"
    },
    "language_info": {
      "codemirror_mode": {
        "name": "ipython",
        "version": 3
      },
      "file_extension": ".py",
      "mimetype": "text/x-python",
      "name": "python",
      "nbconvert_exporter": "python",
      "pygments_lexer": "ipython3",
      "version": "3.8.8"
    },
    "colab": {
      "provenance": []
    },
    "accelerator": "TPU",
    "gpuClass": "standard"
  },
  "nbformat": 4,
  "nbformat_minor": 5
}